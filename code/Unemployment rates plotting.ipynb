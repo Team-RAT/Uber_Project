{
 "cells": [
  {
   "cell_type": "code",
   "execution_count": 492,
   "metadata": {
    "collapsed": true
   },
   "outputs": [],
   "source": [
    "import numpy as np\n",
    "from sklearn.preprocessing import scale\n",
    "import pandas as pd\n",
    "from pandas import DataFrame, Series\n",
    "import pyodbc\n",
    "import plotly.plotly as py\n",
    "import cufflinks as cf"
   ]
  },
  {
   "cell_type": "code",
   "execution_count": 493,
   "metadata": {
    "collapsed": true
   },
   "outputs": [],
   "source": [
    "array = []\n",
    "city = []\n",
    "uber = []\n",
    "with open(r\"C:\\Users\\Student\\Documents\\Uber_Project\\data\\CityStats.csv\", 'r') as citystats:\n",
    "    next(citystats)\n",
    "    for line in citystats:\n",
    "        array.append(line.replace(\"'\",'').replace(\"\\n\",'').split(','))\n",
    "        city.append(line.replace(\"'\",'').replace(\"\\n\",'').split(',')[0])\n",
    "        uber.append(line.replace(\"'\",'').replace(\"\\n\",'').split(',')[-1])\n",
    "    "
   ]
  },
  {
   "cell_type": "code",
   "execution_count": 494,
   "metadata": {
    "collapsed": true
   },
   "outputs": [],
   "source": [
    "city_np_array = np.array(array)"
   ]
  },
  {
   "cell_type": "code",
   "execution_count": 495,
   "metadata": {
    "collapsed": true
   },
   "outputs": [],
   "source": [
    "city_np_array_data= city_np_array.copy()\n",
    "city_np_array_target= city_np_array.copy()"
   ]
  },
  {
   "cell_type": "code",
   "execution_count": 496,
   "metadata": {
    "collapsed": true
   },
   "outputs": [],
   "source": [
    "city_data = city_np_array_data[:,1:-1]"
   ]
  },
  {
   "cell_type": "code",
   "execution_count": 497,
   "metadata": {},
   "outputs": [
    {
     "data": {
      "text/plain": [
       "array([5, 3, 5, 3, 0, 5, 2, 5, 5, 0, 0, 3, 4, 5, 3, 0, 5, 0, 3, 5, 5, 5, 0,\n",
       "       3, 4, 5, 0, 5, 5, 4, 0, 4, 1, 5, 2, 5, 0, 5, 4, 5, 5, 5, 4, 3, 5, 5,\n",
       "       0, 0, 3, 4, 3, 0, 0, 0, 5, 0, 5, 5, 5, 5, 5, 3, 5])"
      ]
     },
     "execution_count": 497,
     "metadata": {},
     "output_type": "execute_result"
    }
   ],
   "source": [
    "from sklearn.decomposition import RandomizedPCA\n",
    "from sklearn.cluster import KMeans\n",
    "kmeans = KMeans(n_clusters=6, random_state=0).fit(city_np_array_data[:,1:-1])\n",
    "kmeans.labels_"
   ]
  },
  {
   "cell_type": "code",
   "execution_count": 498,
   "metadata": {},
   "outputs": [
    {
     "name": "stderr",
     "output_type": "stream",
     "text": [
      "C:\\Users\\Student\\Anaconda3\\lib\\site-packages\\sklearn\\utils\\deprecation.py:58: DeprecationWarning:\n",
      "\n",
      "Class RandomizedPCA is deprecated; RandomizedPCA was deprecated in 0.18 and will be removed in 0.20. Use PCA(svd_solver='randomized') instead. The new implementation DOES NOT store whiten ``components_``. Apply transform to get them.\n",
      "\n"
     ]
    }
   ],
   "source": [
    "u = RandomizedPCA(n_components=2)\n",
    "data = u.fit_transform(city_data)"
   ]
  },
  {
   "cell_type": "code",
   "execution_count": 499,
   "metadata": {
    "collapsed": true
   },
   "outputs": [],
   "source": [
    "df = pd.DataFrame(city)"
   ]
  },
  {
   "cell_type": "code",
   "execution_count": 500,
   "metadata": {
    "collapsed": true
   },
   "outputs": [],
   "source": [
    "df['labels'] = kmeans.labels_.tolist()\n",
    "df['uber'] = uber"
   ]
  },
  {
   "cell_type": "code",
   "execution_count": 501,
   "metadata": {
    "collapsed": true
   },
   "outputs": [],
   "source": [
    "df.columns=['City', 'Labels','Uber']\n",
    "g5 = df[df.Labels==5]\n",
    "g4 = df[df.Labels==4]\n",
    "g3 = df[df.Labels==3]\n",
    "g2 = df[df.Labels==2]\n",
    "g1 = df[df.Labels==1]\n",
    "g0 = df[df.Labels==0]"
   ]
  },
  {
   "cell_type": "code",
   "execution_count": 502,
   "metadata": {
    "collapsed": true
   },
   "outputs": [],
   "source": [
    "c = pyodbc.connect('DSN=sqluberconn;UID=tabi;PWD=password')"
   ]
  },
  {
   "cell_type": "code",
   "execution_count": 503,
   "metadata": {
    "collapsed": true
   },
   "outputs": [],
   "source": [
    "unemploy = pd.read_sql_query(sql = r'select [UALAD], [2011], [2012], [2013], [2014], [2015], [2016]from unemployment.[Rates_perc]', con = c)"
   ]
  },
  {
   "cell_type": "code",
   "execution_count": 504,
   "metadata": {
    "collapsed": true
   },
   "outputs": [],
   "source": [
    "g5 = g5.set_index(['City'])\n",
    "g4 = g4.set_index(['City'])\n",
    "g3 = g3.set_index(['City'])\n",
    "g2 = g2.set_index(['City'])\n",
    "g1 = g1.set_index(['City'])\n",
    "g0 = g0.set_index(['City'])"
   ]
  },
  {
   "cell_type": "code",
   "execution_count": 505,
   "metadata": {
    "collapsed": true
   },
   "outputs": [],
   "source": [
    "unemploy = unemploy.set_index(['UALAD'])"
   ]
  },
  {
   "cell_type": "code",
   "execution_count": 506,
   "metadata": {
    "collapsed": true
   },
   "outputs": [],
   "source": [
    "g5 = pd.concat([g5, unemploy], axis = 1, join = 'inner')"
   ]
  },
  {
   "cell_type": "code",
   "execution_count": 507,
   "metadata": {
    "collapsed": true
   },
   "outputs": [],
   "source": [
    "g5_nuber = g5[g5.Uber=='0']"
   ]
  },
  {
   "cell_type": "code",
   "execution_count": 508,
   "metadata": {
    "collapsed": true
   },
   "outputs": [],
   "source": [
    "del g5_nuber['Labels']\n",
    "del g5_nuber['Uber']"
   ]
  },
  {
   "cell_type": "code",
   "execution_count": 509,
   "metadata": {
    "collapsed": true
   },
   "outputs": [],
   "source": [
    "g5_uber = g5[g5.Uber=='1']\n",
    "del g5_uber['Labels']\n",
    "del g5_uber['Uber']"
   ]
  },
  {
   "cell_type": "code",
   "execution_count": 510,
   "metadata": {
    "collapsed": true
   },
   "outputs": [],
   "source": [
    "g3 = pd.concat([g3, unemploy], axis = 1, join = 'inner')"
   ]
  },
  {
   "cell_type": "code",
   "execution_count": 511,
   "metadata": {
    "collapsed": true
   },
   "outputs": [],
   "source": [
    "g3_nuber = g3[g3.Uber=='0']\n",
    "del g3_nuber['Labels']\n",
    "del g3_nuber['Uber']"
   ]
  },
  {
   "cell_type": "code",
   "execution_count": 512,
   "metadata": {
    "collapsed": true
   },
   "outputs": [],
   "source": [
    "g3_uber = g3[g3.Uber=='1']\n",
    "del g3_uber['Labels']\n",
    "del g3_uber['Uber']"
   ]
  },
  {
   "cell_type": "code",
   "execution_count": 513,
   "metadata": {
    "collapsed": true
   },
   "outputs": [],
   "source": [
    "g0 = pd.concat([g0, unemploy], axis = 1, join = 'inner')"
   ]
  },
  {
   "cell_type": "code",
   "execution_count": 514,
   "metadata": {
    "collapsed": true
   },
   "outputs": [],
   "source": [
    "g0_nuber = g0[g0.Uber=='0']\n",
    "del g0_nuber['Labels']\n",
    "del g0_nuber['Uber']"
   ]
  },
  {
   "cell_type": "code",
   "execution_count": 515,
   "metadata": {
    "collapsed": true
   },
   "outputs": [],
   "source": [
    "g0_uber = g0[g0.Uber=='1']\n",
    "del g0_uber['Labels']\n",
    "del g0_uber['Uber']"
   ]
  },
  {
   "cell_type": "code",
   "execution_count": 516,
   "metadata": {
    "collapsed": true
   },
   "outputs": [],
   "source": [
    "us = pd.read_csv(r'C:\\Users\\Student\\Documents\\Uber_Project\\data\\uberstartdates.csv')"
   ]
  },
  {
   "cell_type": "code",
   "execution_count": 517,
   "metadata": {
    "collapsed": true
   },
   "outputs": [],
   "source": [
    "us = us.set_index(['City'])"
   ]
  },
  {
   "cell_type": "code",
   "execution_count": 518,
   "metadata": {
    "collapsed": true
   },
   "outputs": [],
   "source": [
    "g5_uber = pd.concat([us, g5_uber], axis = 1, join = 'inner')"
   ]
  },
  {
   "cell_type": "code",
   "execution_count": 519,
   "metadata": {
    "collapsed": true
   },
   "outputs": [],
   "source": [
    "g5_uber14 = g5_uber[g5_uber.UberStart == 2014]"
   ]
  },
  {
   "cell_type": "code",
   "execution_count": 520,
   "metadata": {
    "collapsed": true
   },
   "outputs": [],
   "source": [
    "g5_uber15 = g5_uber[g5_uber.UberStart == 2015]"
   ]
  },
  {
   "cell_type": "code",
   "execution_count": 521,
   "metadata": {
    "collapsed": true
   },
   "outputs": [],
   "source": [
    "del g5_uber14['UberStart']\n",
    "del g5_uber14['2011']\n",
    "del g5_uber14['2012']"
   ]
  },
  {
   "cell_type": "code",
   "execution_count": 524,
   "metadata": {
    "collapsed": true
   },
   "outputs": [],
   "source": [
    "del g5_uber15['UberStart']\n",
    "del g5_uber15['2011']\n",
    "del g5_uber15['2012']"
   ]
  },
  {
   "cell_type": "code",
   "execution_count": 525,
   "metadata": {
    "collapsed": true
   },
   "outputs": [],
   "source": [
    "g5_uber14 = g5_uber14.apply(pd.to_numeric).mean()"
   ]
  },
  {
   "cell_type": "code",
   "execution_count": 526,
   "metadata": {
    "collapsed": true
   },
   "outputs": [],
   "source": [
    "g5_uber15 = g5_uber15.apply(pd.to_numeric).mean()"
   ]
  },
  {
   "cell_type": "code",
   "execution_count": 527,
   "metadata": {
    "collapsed": true
   },
   "outputs": [],
   "source": [
    "g5_nuber = g5_nuber.apply(pd.to_numeric).mean()"
   ]
  },
  {
   "cell_type": "code",
   "execution_count": 528,
   "metadata": {
    "collapsed": true
   },
   "outputs": [],
   "source": [
    "g5_ue = pd.concat([g5_uber14, g5_uber15, g5_nuber], axis = 1, join = 'inner')"
   ]
  },
  {
   "cell_type": "code",
   "execution_count": 529,
   "metadata": {
    "collapsed": true
   },
   "outputs": [],
   "source": [
    "g5_ue.columns = ['Uber 2014', 'Uber 2015', 'No Uber']"
   ]
  },
  {
   "cell_type": "code",
   "execution_count": 530,
   "metadata": {
    "collapsed": true
   },
   "outputs": [],
   "source": [
    "g5_layout = {'title': 'Group 5 Cities', 'xaxis':{'title': 'Year'}, 'yaxis':{'title': 'Unemployment Rate (%)'}}"
   ]
  },
  {
   "cell_type": "code",
   "execution_count": 531,
   "metadata": {},
   "outputs": [
    {
     "data": {
      "text/html": [
       "<iframe id=\"igraph\" scrolling=\"no\" style=\"border:none;\" seamless=\"seamless\" src=\"https://plot.ly/~tabidavies/73.embed\" height=\"525px\" width=\"100%\"></iframe>"
      ],
      "text/plain": [
       "<plotly.tools.PlotlyDisplay object>"
      ]
     },
     "execution_count": 531,
     "metadata": {},
     "output_type": "execute_result"
    }
   ],
   "source": [
    "g5_ue.iplot(kind = 'scatter', layout = g5_layout)"
   ]
  },
  {
   "cell_type": "code",
   "execution_count": 533,
   "metadata": {
    "collapsed": true
   },
   "outputs": [],
   "source": [
    "g3_uber = pd.concat([us, g3_uber], axis = 1, join = 'inner')"
   ]
  },
  {
   "cell_type": "code",
   "execution_count": 534,
   "metadata": {
    "collapsed": true
   },
   "outputs": [],
   "source": [
    "g0_uber = pd.concat([us, g0_uber], axis = 1, join = 'inner')"
   ]
  },
  {
   "cell_type": "code",
   "execution_count": 535,
   "metadata": {
    "collapsed": true
   },
   "outputs": [],
   "source": [
    "g0_uber14 = g0_uber[g0_uber.UberStart == 2014]"
   ]
  },
  {
   "cell_type": "code",
   "execution_count": 536,
   "metadata": {
    "collapsed": true
   },
   "outputs": [],
   "source": [
    "g0_uber15 = g0_uber[g0_uber.UberStart == 2015]"
   ]
  },
  {
   "cell_type": "code",
   "execution_count": 537,
   "metadata": {
    "collapsed": true
   },
   "outputs": [],
   "source": [
    "del g0_uber14['UberStart']\n",
    "del g0_uber14['2011']\n",
    "del g0_uber14['2012']"
   ]
  },
  {
   "cell_type": "code",
   "execution_count": 538,
   "metadata": {
    "collapsed": true
   },
   "outputs": [],
   "source": [
    "del g0_uber15['UberStart']\n",
    "del g0_uber15['2011']\n",
    "del g0_uber15['2012']"
   ]
  },
  {
   "cell_type": "code",
   "execution_count": 539,
   "metadata": {
    "collapsed": true
   },
   "outputs": [],
   "source": [
    "g0_uber14 = g0_uber14.apply(pd.to_numeric).mean()"
   ]
  },
  {
   "cell_type": "code",
   "execution_count": 540,
   "metadata": {
    "collapsed": true
   },
   "outputs": [],
   "source": [
    "g0_uber15 = g0_uber15.apply(pd.to_numeric).mean()"
   ]
  },
  {
   "cell_type": "code",
   "execution_count": 541,
   "metadata": {
    "collapsed": true
   },
   "outputs": [],
   "source": [
    "g0_nuber = g0_nuber.apply(pd.to_numeric).mean()"
   ]
  },
  {
   "cell_type": "code",
   "execution_count": 542,
   "metadata": {
    "collapsed": true
   },
   "outputs": [],
   "source": [
    "g0_ue = pd.concat([g0_uber14, g0_uber15, g0_nuber], axis = 1, join = 'inner')"
   ]
  },
  {
   "cell_type": "code",
   "execution_count": 543,
   "metadata": {
    "collapsed": true
   },
   "outputs": [],
   "source": [
    "g0_ue.columns = ['Uber 2014', 'Uber 2015', 'No Uber']"
   ]
  },
  {
   "cell_type": "code",
   "execution_count": 544,
   "metadata": {
    "collapsed": true
   },
   "outputs": [],
   "source": [
    "g0_layout = {'title': 'Group 0 Cities', 'xaxis':{'title': 'Year'}, 'yaxis':{'title': 'Unemployment Rate (%)'}}"
   ]
  },
  {
   "cell_type": "code",
   "execution_count": 545,
   "metadata": {},
   "outputs": [
    {
     "data": {
      "text/html": [
       "<iframe id=\"igraph\" scrolling=\"no\" style=\"border:none;\" seamless=\"seamless\" src=\"https://plot.ly/~tabidavies/75.embed\" height=\"525px\" width=\"100%\"></iframe>"
      ],
      "text/plain": [
       "<plotly.tools.PlotlyDisplay object>"
      ]
     },
     "execution_count": 545,
     "metadata": {},
     "output_type": "execute_result"
    }
   ],
   "source": [
    "g0_ue.iplot(kind = 'scatter', layout = g0_layout)"
   ]
  },
  {
   "cell_type": "code",
   "execution_count": null,
   "metadata": {
    "collapsed": true
   },
   "outputs": [],
   "source": []
  }
 ],
 "metadata": {
  "kernelspec": {
   "display_name": "Python 3",
   "language": "python",
   "name": "python3"
  },
  "language_info": {
   "codemirror_mode": {
    "name": "ipython",
    "version": 3
   },
   "file_extension": ".py",
   "mimetype": "text/x-python",
   "name": "python",
   "nbconvert_exporter": "python",
   "pygments_lexer": "ipython3",
   "version": "3.6.3"
  }
 },
 "nbformat": 4,
 "nbformat_minor": 2
}
