{
 "cells": [
  {
   "cell_type": "markdown",
   "metadata": {},
   "source": [
    "## importing libraries for use in code"
   ]
  },
  {
   "cell_type": "code",
   "execution_count": 564,
   "metadata": {
    "collapsed": true
   },
   "outputs": [],
   "source": [
    "\n",
    "import numpy as np\n",
    "from sklearn.preprocessing import scale\n",
    "import pandas as pd\n",
    "from pandas import DataFrame, Series\n",
    "import pyodbc\n",
    "import plotly.plotly as py\n",
    "import cufflinks as cf\n",
    "from sklearn.decomposition import RandomizedPCA\n",
    "from sklearn.cluster import KMeans"
   ]
  },
  {
   "cell_type": "markdown",
   "metadata": {},
   "source": [
    "## copy of code from CitiesClustering to get the city groupings"
   ]
  },
  {
   "cell_type": "code",
   "execution_count": 565,
   "metadata": {
    "collapsed": true
   },
   "outputs": [],
   "source": [
    "array = []\n",
    "city = []\n",
    "uber = []\n",
    "with open(r\"C:\\Users\\Student\\Documents\\Uber_Project\\data\\CityStats.csv\", 'r') as citystats:\n",
    "    next(citystats)\n",
    "    for line in citystats:\n",
    "        array.append(line.replace(\"'\",'').replace(\"\\n\",'').split(','))\n",
    "        city.append(line.replace(\"'\",'').replace(\"\\n\",'').split(',')[0])\n",
    "        uber.append(line.replace(\"'\",'').replace(\"\\n\",'').split(',')[-1])\n",
    "    "
   ]
  },
  {
   "cell_type": "code",
   "execution_count": 566,
   "metadata": {
    "collapsed": true
   },
   "outputs": [],
   "source": [
    "city_np_array = np.array(array)"
   ]
  },
  {
   "cell_type": "code",
   "execution_count": 567,
   "metadata": {
    "collapsed": true
   },
   "outputs": [],
   "source": [
    "city_np_array_data= city_np_array.copy()\n",
    "city_np_array_target= city_np_array.copy()"
   ]
  },
  {
   "cell_type": "code",
   "execution_count": 568,
   "metadata": {
    "collapsed": true
   },
   "outputs": [],
   "source": [
    "city_data = city_np_array_data[:,1:-1]"
   ]
  },
  {
   "cell_type": "code",
   "execution_count": 569,
   "metadata": {},
   "outputs": [
    {
     "data": {
      "text/plain": [
       "array([5, 3, 5, 3, 0, 5, 2, 5, 5, 0, 0, 3, 4, 5, 3, 0, 5, 0, 3, 5, 5, 5, 0,\n",
       "       3, 4, 5, 0, 5, 5, 4, 0, 4, 1, 5, 2, 5, 0, 5, 4, 5, 5, 5, 4, 3, 5, 5,\n",
       "       0, 0, 3, 4, 3, 0, 0, 0, 5, 0, 5, 5, 5, 5, 5, 3, 5])"
      ]
     },
     "execution_count": 569,
     "metadata": {},
     "output_type": "execute_result"
    }
   ],
   "source": [
    "kmeans = KMeans(n_clusters=6, random_state=0).fit(city_np_array_data[:,1:-1])\n",
    "kmeans.labels_"
   ]
  },
  {
   "cell_type": "code",
   "execution_count": 570,
   "metadata": {},
   "outputs": [
    {
     "name": "stderr",
     "output_type": "stream",
     "text": [
      "C:\\Users\\Student\\Anaconda3\\lib\\site-packages\\sklearn\\utils\\deprecation.py:58: DeprecationWarning:\n",
      "\n",
      "Class RandomizedPCA is deprecated; RandomizedPCA was deprecated in 0.18 and will be removed in 0.20. Use PCA(svd_solver='randomized') instead. The new implementation DOES NOT store whiten ``components_``. Apply transform to get them.\n",
      "\n"
     ]
    }
   ],
   "source": [
    "u = RandomizedPCA(n_components=2)\n",
    "data = u.fit_transform(city_data)"
   ]
  },
  {
   "cell_type": "markdown",
   "metadata": {},
   "source": [
    "## creating dataframes of data and plotting with plotly"
   ]
  },
  {
   "cell_type": "code",
   "execution_count": 571,
   "metadata": {
    "collapsed": true
   },
   "outputs": [],
   "source": [
    "df = pd.DataFrame(city)  # creating a pandas DataFrame of the list of uk cities"
   ]
  },
  {
   "cell_type": "code",
   "execution_count": 572,
   "metadata": {
    "collapsed": true
   },
   "outputs": [],
   "source": [
    "df['labels'] = kmeans.labels_.tolist()  # adding city grouping labels as column in df\n",
    "df['uber'] = uber  # adding whether or not city has uber to column in df"
   ]
  },
  {
   "cell_type": "code",
   "execution_count": 573,
   "metadata": {
    "collapsed": true
   },
   "outputs": [],
   "source": [
    "df.columns=['City', 'Labels','Uber']\n",
    "g5 = df[df.Labels==5]\n",
    "g4 = df[df.Labels==4]\n",
    "g3 = df[df.Labels==3]\n",
    "g2 = df[df.Labels==2]\n",
    "g1 = df[df.Labels==1]\n",
    "g0 = df[df.Labels==0]\n",
    "# created separate DataFrame from df for each group of cities"
   ]
  },
  {
   "cell_type": "code",
   "execution_count": 574,
   "metadata": {
    "collapsed": true
   },
   "outputs": [],
   "source": [
    "c = pyodbc.connect('DSN=sqluberconn;UID=tabi;PWD=password')\n",
    "# create connection to SQL database with unemployment rate data"
   ]
  },
  {
   "cell_type": "code",
   "execution_count": 575,
   "metadata": {
    "collapsed": true
   },
   "outputs": [],
   "source": [
    "unemploy = pd.read_sql_query(sql = r'select [UALAD], [2011], [2012], [2013], [2014], [2015], [2016]from unemployment.[Rates_perc]', con = c)\n",
    "# run SQL query throurgh connector"
   ]
  },
  {
   "cell_type": "code",
   "execution_count": 576,
   "metadata": {
    "collapsed": true
   },
   "outputs": [],
   "source": [
    "g5 = g5.set_index(['City'])\n",
    "g4 = g4.set_index(['City'])\n",
    "g3 = g3.set_index(['City'])\n",
    "g2 = g2.set_index(['City'])\n",
    "g1 = g1.set_index(['City'])\n",
    "g0 = g0.set_index(['City'])\n",
    "# set indexes of group DataFrames to city for ease of joining"
   ]
  },
  {
   "cell_type": "code",
   "execution_count": 577,
   "metadata": {
    "collapsed": true
   },
   "outputs": [],
   "source": [
    "unemploy = unemploy.set_index(['UALAD'])\n",
    "# set indexes of unemployment DataFrame for ease of joining "
   ]
  },
  {
   "cell_type": "code",
   "execution_count": 578,
   "metadata": {
    "collapsed": true
   },
   "outputs": [],
   "source": [
    "g5 = pd.concat([g5, unemploy], axis = 1, join = 'inner')\n",
    "# join group 5 DataFrame to unemployment "
   ]
  },
  {
   "cell_type": "code",
   "execution_count": 579,
   "metadata": {
    "collapsed": true
   },
   "outputs": [],
   "source": [
    "g5_nuber = g5[g5.Uber=='0']\n",
    "# create DataFrame of group 5 cities without uber"
   ]
  },
  {
   "cell_type": "code",
   "execution_count": 580,
   "metadata": {
    "collapsed": true
   },
   "outputs": [],
   "source": [
    "del g5_nuber['Labels']\n",
    "del g5_nuber['Uber']\n",
    "# delete lables and uber column for ease of plotting "
   ]
  },
  {
   "cell_type": "code",
   "execution_count": 581,
   "metadata": {
    "collapsed": true
   },
   "outputs": [],
   "source": [
    "g5_uber = g5[g5.Uber=='1']\n",
    "del g5_uber['Labels']\n",
    "del g5_uber['Uber']\n",
    "# repeat previous process for group 5 cities with uber"
   ]
  },
  {
   "cell_type": "code",
   "execution_count": 582,
   "metadata": {
    "collapsed": true
   },
   "outputs": [],
   "source": [
    "g3 = pd.concat([g3, unemploy], axis = 1, join = 'inner')\n",
    "# join group 3 DataFrame to unemployment "
   ]
  },
  {
   "cell_type": "code",
   "execution_count": 583,
   "metadata": {
    "collapsed": true
   },
   "outputs": [],
   "source": [
    "g3_nuber = g3[g3.Uber=='0']\n",
    "# create DataFrame of group 3 cities without uber\n",
    "del g3_nuber['Labels']\n",
    "del g3_nuber['Uber']\n",
    "# delete lables and uber column for ease of plotting "
   ]
  },
  {
   "cell_type": "code",
   "execution_count": 584,
   "metadata": {
    "collapsed": true
   },
   "outputs": [],
   "source": [
    "g3_uber = g3[g3.Uber=='1']\n",
    "del g3_uber['Labels']\n",
    "del g3_uber['Uber']\n",
    "# repeat previous process for group 3 cities with uber"
   ]
  },
  {
   "cell_type": "code",
   "execution_count": 585,
   "metadata": {
    "collapsed": true
   },
   "outputs": [],
   "source": [
    "g0 = pd.concat([g0, unemploy], axis = 1, join = 'inner')\n",
    "# join group 0 DataFrame to unemployment "
   ]
  },
  {
   "cell_type": "code",
   "execution_count": 586,
   "metadata": {
    "collapsed": true
   },
   "outputs": [],
   "source": [
    "g0_nuber = g0[g0.Uber=='0']\n",
    "# create DataFrame of group 0 cities without uber\n",
    "del g0_nuber['Labels']\n",
    "del g0_nuber['Uber']\n",
    "# delete lables and uber column for ease of plotting "
   ]
  },
  {
   "cell_type": "code",
   "execution_count": 587,
   "metadata": {
    "collapsed": true
   },
   "outputs": [],
   "source": [
    "g0_uber = g0[g0.Uber=='1']\n",
    "del g0_uber['Labels']\n",
    "del g0_uber['Uber']\n",
    "# repeat previous process for group 0 cities with uber"
   ]
  },
  {
   "cell_type": "code",
   "execution_count": 588,
   "metadata": {
    "collapsed": true
   },
   "outputs": [],
   "source": [
    "us = pd.read_csv(r'C:\\Users\\Student\\Documents\\Uber_Project\\data\\uberstartdates.csv')\n",
    "# read csv file containing uber start year of each UK city/town where uber operates"
   ]
  },
  {
   "cell_type": "code",
   "execution_count": 589,
   "metadata": {
    "collapsed": true
   },
   "outputs": [],
   "source": [
    "us = us.set_index(['City'])\n",
    "# set index for ease of joining"
   ]
  },
  {
   "cell_type": "code",
   "execution_count": 590,
   "metadata": {
    "collapsed": true
   },
   "outputs": [],
   "source": [
    "g5_uber = pd.concat([us, g5_uber], axis = 1, join = 'inner')\n",
    "# uber start date list to group 5 cities with uber DataFrame"
   ]
  },
  {
   "cell_type": "code",
   "execution_count": 591,
   "metadata": {
    "collapsed": true
   },
   "outputs": [],
   "source": [
    "g5_uber14 = g5_uber[g5_uber.UberStart == 2014]\n",
    "# create DataFrame for cities where uber started in 2014"
   ]
  },
  {
   "cell_type": "code",
   "execution_count": 592,
   "metadata": {
    "collapsed": true
   },
   "outputs": [],
   "source": [
    "g5_uber15 = g5_uber[g5_uber.UberStart == 2015]\n",
    "# create DataFrame for cities where uber started in 2015"
   ]
  },
  {
   "cell_type": "code",
   "execution_count": 593,
   "metadata": {
    "collapsed": true
   },
   "outputs": [],
   "source": [
    "del g5_uber14['UberStart']\n",
    "del g5_uber14['2011']\n",
    "del g5_uber14['2012']\n",
    "# delete columns for ease of plotting"
   ]
  },
  {
   "cell_type": "code",
   "execution_count": 594,
   "metadata": {
    "collapsed": true
   },
   "outputs": [],
   "source": [
    "del g5_uber15['UberStart']\n",
    "del g5_uber15['2011']\n",
    "del g5_uber15['2012']\n",
    "# delete columns for ease of plotting"
   ]
  },
  {
   "cell_type": "code",
   "execution_count": 595,
   "metadata": {
    "collapsed": true
   },
   "outputs": [],
   "source": [
    "g5_uber14 = g5_uber14.apply(pd.to_numeric).mean()\n",
    "g5_uber15 = g5_uber15.apply(pd.to_numeric).mean()\n",
    "g5_nuber = g5_nuber.apply(pd.to_numeric).mean()\n",
    "# change data type of entries to numeric and calculate means"
   ]
  },
  {
   "cell_type": "code",
   "execution_count": 596,
   "metadata": {
    "collapsed": true
   },
   "outputs": [],
   "source": [
    "g5_ue = pd.concat([g5_uber14, g5_uber15, g5_nuber], axis = 1, join = 'inner')\n",
    "# join DataFrames for ease of plotting"
   ]
  },
  {
   "cell_type": "code",
   "execution_count": 597,
   "metadata": {
    "collapsed": true
   },
   "outputs": [],
   "source": [
    "g5_ue.columns = ['Uber 2014', 'Uber 2015', 'No Uber']\n",
    "# name columns of new DataFrame"
   ]
  },
  {
   "cell_type": "code",
   "execution_count": 598,
   "metadata": {
    "collapsed": true
   },
   "outputs": [],
   "source": [
    "g5_layout = {'title': 'Group 5 Cities', 'xaxis':{'title': 'Year'}, 'yaxis':{'title': 'Unemployment Rate (%)'}}\n",
    "# create layout with graph title and axis titles"
   ]
  },
  {
   "cell_type": "code",
   "execution_count": 599,
   "metadata": {},
   "outputs": [
    {
     "data": {
      "text/html": [
       "<iframe id=\"igraph\" scrolling=\"no\" style=\"border:none;\" seamless=\"seamless\" src=\"https://plot.ly/~tabidavies/77.embed\" height=\"525px\" width=\"100%\"></iframe>"
      ],
      "text/plain": [
       "<plotly.tools.PlotlyDisplay object>"
      ]
     },
     "execution_count": 599,
     "metadata": {},
     "output_type": "execute_result"
    }
   ],
   "source": [
    "g5_ue.iplot(kind = 'scatter', layout = g5_layout)\n",
    "# plot group 5 unemployment rates"
   ]
  },
  {
   "cell_type": "code",
   "execution_count": 600,
   "metadata": {
    "collapsed": true
   },
   "outputs": [],
   "source": [
    "g3_uber = pd.concat([us, g3_uber], axis = 1, join = 'inner')\n",
    "# group 3 had no cities where uber started before 2016 therefore could not be plotted"
   ]
  },
  {
   "cell_type": "code",
   "execution_count": 601,
   "metadata": {
    "collapsed": true
   },
   "outputs": [],
   "source": [
    "g0_uber = pd.concat([us, g0_uber], axis = 1, join = 'inner')\n",
    "# uber start date list to group 0 cities with uber DataFrame"
   ]
  },
  {
   "cell_type": "code",
   "execution_count": 602,
   "metadata": {
    "collapsed": true
   },
   "outputs": [],
   "source": [
    "g0_uber14 = g0_uber[g0_uber.UberStart == 2014]\n",
    "# create DataFrame for cities where uber started in 2014"
   ]
  },
  {
   "cell_type": "code",
   "execution_count": 603,
   "metadata": {
    "collapsed": true
   },
   "outputs": [],
   "source": [
    "g0_uber15 = g0_uber[g0_uber.UberStart == 2015]\n",
    "# create DataFrame for cities where uber started in 2015"
   ]
  },
  {
   "cell_type": "code",
   "execution_count": 604,
   "metadata": {
    "collapsed": true
   },
   "outputs": [],
   "source": [
    "del g0_uber14['UberStart']\n",
    "del g0_uber14['2011']\n",
    "del g0_uber14['2012']\n",
    "# delete columns for ease of plotting"
   ]
  },
  {
   "cell_type": "code",
   "execution_count": 605,
   "metadata": {
    "collapsed": true
   },
   "outputs": [],
   "source": [
    "del g0_uber15['UberStart']\n",
    "del g0_uber15['2011']\n",
    "del g0_uber15['2012']\n",
    "# delete columns for ease of plotting"
   ]
  },
  {
   "cell_type": "code",
   "execution_count": 606,
   "metadata": {
    "collapsed": true
   },
   "outputs": [],
   "source": [
    "g0_uber14 = g0_uber14.apply(pd.to_numeric).mean()\n",
    "g0_uber15 = g0_uber15.apply(pd.to_numeric).mean()\n",
    "g0_nuber = g0_nuber.apply(pd.to_numeric).mean()\n",
    "# change data type of entries to numeric and calculate means"
   ]
  },
  {
   "cell_type": "code",
   "execution_count": 607,
   "metadata": {
    "collapsed": true
   },
   "outputs": [],
   "source": [
    "g0_ue = pd.concat([g0_uber14, g0_uber15, g0_nuber], axis = 1, join = 'inner')\n",
    "# join DataFrames for ease of plotting"
   ]
  },
  {
   "cell_type": "code",
   "execution_count": 608,
   "metadata": {
    "collapsed": true
   },
   "outputs": [],
   "source": [
    "g0_ue.columns = ['Uber 2014', 'Uber 2015', 'No Uber']\n",
    "# name columns of new DataFrame"
   ]
  },
  {
   "cell_type": "code",
   "execution_count": 609,
   "metadata": {
    "collapsed": true
   },
   "outputs": [],
   "source": [
    "g0_layout = {'title': 'Group 0 Cities', 'xaxis':{'title': 'Year'}, 'yaxis':{'title': 'Unemployment Rate (%)'}}\n",
    "# create layout with graph title and axis titles"
   ]
  },
  {
   "cell_type": "code",
   "execution_count": 610,
   "metadata": {},
   "outputs": [
    {
     "data": {
      "text/html": [
       "<iframe id=\"igraph\" scrolling=\"no\" style=\"border:none;\" seamless=\"seamless\" src=\"https://plot.ly/~tabidavies/79.embed\" height=\"525px\" width=\"100%\"></iframe>"
      ],
      "text/plain": [
       "<plotly.tools.PlotlyDisplay object>"
      ]
     },
     "execution_count": 610,
     "metadata": {},
     "output_type": "execute_result"
    }
   ],
   "source": [
    "g0_ue.iplot(kind = 'scatter', layout = g0_layout)\n",
    "# plot group 5 unemployment rates"
   ]
  },
  {
   "cell_type": "code",
   "execution_count": null,
   "metadata": {
    "collapsed": true
   },
   "outputs": [],
   "source": []
  }
 ],
 "metadata": {
  "kernelspec": {
   "display_name": "Python 3",
   "language": "python",
   "name": "python3"
  },
  "language_info": {
   "codemirror_mode": {
    "name": "ipython",
    "version": 3
   },
   "file_extension": ".py",
   "mimetype": "text/x-python",
   "name": "python",
   "nbconvert_exporter": "python",
   "pygments_lexer": "ipython3",
   "version": "3.6.3"
  }
 },
 "nbformat": 4,
 "nbformat_minor": 2
}
