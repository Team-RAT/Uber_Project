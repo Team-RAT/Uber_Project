{
 "cells": [
  {
   "cell_type": "code",
   "execution_count": 73,
   "metadata": {
    "collapsed": true
   },
   "outputs": [],
   "source": [
    "import numpy as np\n",
    "import matplotlib.pyplot as plt"
   ]
  },
  {
   "cell_type": "code",
   "execution_count": 66,
   "metadata": {
    "collapsed": true
   },
   "outputs": [],
   "source": [
    "array = []\n",
    "with open(r\"C:\\Users\\Admin\\Documents\\UberProject\\data\\CityStats.csv\", 'r') as citystats:\n",
    "    next(citystats)\n",
    "    for line in citystats:\n",
    "        array.append(line.replace(\"'\",'').replace(\"\\n\",'').split(','))\n",
    "        \n",
    "    "
   ]
  },
  {
   "cell_type": "code",
   "execution_count": 67,
   "metadata": {
    "collapsed": true
   },
   "outputs": [],
   "source": [
    "city_np_array = np.array(array)"
   ]
  },
  {
   "cell_type": "code",
   "execution_count": 68,
   "metadata": {
    "collapsed": true
   },
   "outputs": [],
   "source": [
    "city_np_array_data= city_np_array.copy()\n",
    "city_np_array_target= city_np_array.copy()"
   ]
  },
  {
   "cell_type": "code",
   "execution_count": 84,
   "metadata": {},
   "outputs": [],
   "source": [
    "city_data = city_np_array_data[:,1:]\n",
    "city_target = [i for i in range(0,63)]"
   ]
  },
  {
   "cell_type": "code",
   "execution_count": 70,
   "metadata": {
    "collapsed": true
   },
   "outputs": [],
   "source": [
    "from sklearn.decomposition import RandomizedPCA"
   ]
  },
  {
   "cell_type": "code",
   "execution_count": 72,
   "metadata": {},
   "outputs": [
    {
     "name": "stderr",
     "output_type": "stream",
     "text": [
      "C:\\Users\\Admin\\Anaconda3\\lib\\site-packages\\sklearn\\utils\\deprecation.py:58: DeprecationWarning: Class RandomizedPCA is deprecated; RandomizedPCA was deprecated in 0.18 and will be removed in 0.20. Use PCA(svd_solver='randomized') instead. The new implementation DOES NOT store whiten ``components_``. Apply transform to get them.\n",
      "  warnings.warn(msg, category=DeprecationWarning)\n"
     ]
    },
    {
     "data": {
      "text/plain": [
       "array([[ -4.33581760e+05,  -9.18433194e+04],\n",
       "       [ -3.37802719e+05,  -9.13667003e+04],\n",
       "       [ -4.61718347e+05,  -7.21727332e+04],\n",
       "       [ -3.21066407e+05,  -7.57856095e+04],\n",
       "       [ -3.75279511e+05,  -8.02427122e+04],\n",
       "       [ -2.13415366e+05,  -8.12459809e+04],\n",
       "       [ -2.89689261e+05,  -8.25140735e+04],\n",
       "       [ -4.55769831e+05,  -5.88367697e+04],\n",
       "       [  6.90235886e+04,  -8.24939564e+04],\n",
       "       [ -3.76572823e+05,  -6.38928472e+04],\n",
       "       [ -2.95789097e+05,  -6.81643675e+04],\n",
       "       [ -1.18824616e+05,  -7.61145960e+04],\n",
       "       [ -2.11189998e+05,  -6.58789932e+04],\n",
       "       [ -2.57793986e+05,  -5.78284144e+04],\n",
       "       [ -3.82653994e+05,  -4.87019739e+04],\n",
       "       [ -6.18212135e+04,  -7.25375325e+04],\n",
       "       [  4.93341461e+05,  -6.01905670e+04],\n",
       "       [ -3.60676979e+05,  -4.15512166e+04],\n",
       "       [ -3.37350438e+05,  -3.70401026e+04],\n",
       "       [ -4.31051139e+05,  -3.24265715e+04],\n",
       "       [  3.14662900e+05,  -6.27926403e+04],\n",
       "       [  2.75902568e+05,  -7.43241891e+04],\n",
       "       [  1.12182658e+05,  -5.34044997e+04],\n",
       "       [ -1.65615662e+05,  -5.59056323e+04],\n",
       "       [ -2.17432897e+05,  -3.81498350e+04],\n",
       "       [ -2.90268751e+05,  -4.36783653e+04],\n",
       "       [ -2.42996053e+05,  -3.15080755e+04],\n",
       "       [  2.04818599e+06,  -1.36693768e+05],\n",
       "       [  2.06499701e+06,  -1.60390086e+05],\n",
       "       [ -7.18268877e+04,  -3.00831085e+04],\n",
       "       [ -3.37536533e+05,  -2.24062375e+04],\n",
       "       [ -3.99091503e+05,  -8.71706981e+03],\n",
       "       [ -4.67289036e+05,  -6.33569591e+03],\n",
       "       [  2.65556803e+05,  -2.02264776e+04],\n",
       "       [ -4.77749452e+05,  -4.12326231e+03],\n",
       "       [ -3.78510188e+05,   3.25436209e+03],\n",
       "       [ -3.64792703e+05,   3.17689369e+03],\n",
       "       [ -3.31002447e+05,   2.32388064e+04],\n",
       "       [ -3.75176533e+05,   9.69657213e+03],\n",
       "       [ -2.08517331e+05,   1.62033200e+04],\n",
       "       [ -3.22338415e+05,   2.60022417e+04],\n",
       "       [ -3.88408370e+05,   2.31305892e+04],\n",
       "       [ -3.34402492e+05,   1.61323720e+04],\n",
       "       [ -2.81287285e+04,   4.32912270e+04],\n",
       "       [ -4.70756587e+04,   1.02953184e+04],\n",
       "       [ -2.01062834e+05,   2.86999553e+04],\n",
       "       [ -3.87244853e+05,   4.93410253e+04],\n",
       "       [ -4.63242974e+05,   6.57480269e+04],\n",
       "       [ -3.08352554e+05,   7.43729060e+04],\n",
       "       [  2.05862225e+05,   6.38480228e+04],\n",
       "       [ -5.01100941e+05,   8.19392392e+04],\n",
       "       [ -2.56714553e+05,   5.95540574e+04],\n",
       "       [ -4.79072187e+05,   9.60790419e+04],\n",
       "       [ -4.51266672e+05,   9.50961598e+04],\n",
       "       [ -4.17562341e+05,   1.00265509e+05],\n",
       "       [ -9.29866626e+04,   8.90252438e+04],\n",
       "       [ -4.05007507e+05,   1.61193339e+05],\n",
       "       [ -2.35039019e+05,   1.53577653e+05],\n",
       "       [ -2.46364922e+05,   1.71444791e+05],\n",
       "       [ -4.48887475e+05,   2.79407330e+05],\n",
       "       [ -4.13742747e+05,   2.94974826e+05],\n",
       "       [  1.06970974e+07,   8.96974513e+04],\n",
       "       [ -6.89572774e+04,  -3.91182980e+04]])"
      ]
     },
     "execution_count": 72,
     "metadata": {},
     "output_type": "execute_result"
    }
   ],
   "source": [
    "u = RandomizedPCA(n_components=2)\n",
    "data = u.fit_transform(city_data)\n",
    "data"
   ]
  },
  {
   "cell_type": "code",
   "execution_count": 81,
   "metadata": {},
   "outputs": [
    {
     "data": {
      "text/plain": [
       "array([['Burnley'],\n",
       "       ['Hull'],\n",
       "       ['Blackburn'],\n",
       "       ['Sunderland'],\n",
       "       ['Barnsley'],\n",
       "       ['Stoke'],\n",
       "       ['Wigan'],\n",
       "       ['Dundee'],\n",
       "       ['Liverpool'],\n",
       "       ['Mansfield'],\n",
       "       ['Doncaster'],\n",
       "       ['Middlesbrough'],\n",
       "       ['Swansea'],\n",
       "       ['Wakefield'],\n",
       "       ['Blackpool'],\n",
       "       ['Bradford'],\n",
       "       ['Glasgow'],\n",
       "       ['Newport'],\n",
       "       ['Derby'],\n",
       "       ['Telford'],\n",
       "       ['Newcastle'],\n",
       "       ['Sheffield'],\n",
       "       ['Nottingham'],\n",
       "       ['Huddersfield'],\n",
       "       ['Preston'],\n",
       "       ['Birkenhead'],\n",
       "       ['Coventry'],\n",
       "       ['Manchester'],\n",
       "       ['Birmingham'],\n",
       "       ['Leicester'],\n",
       "       ['Plymouth'],\n",
       "       ['Peterborough'],\n",
       "       ['Ipswich'],\n",
       "       ['Leeds'],\n",
       "       ['Gloucester'],\n",
       "       ['Warrington'],\n",
       "       ['Northampton'],\n",
       "       ['Aberdeen'],\n",
       "       ['Swindon'],\n",
       "       ['Cardiff'],\n",
       "       ['Norwich'],\n",
       "       ['Luton'],\n",
       "       ['Chatham'],\n",
       "       ['Edinburgh'],\n",
       "       ['Portsmouth'],\n",
       "       ['Southampton'],\n",
       "       ['York'],\n",
       "       ['Exeter'],\n",
       "       ['Milton Keynes'],\n",
       "       ['Bristol'],\n",
       "       ['Worthing'],\n",
       "       ['Southend'],\n",
       "       ['Crawley'],\n",
       "       ['Slough'],\n",
       "       ['Basildon'],\n",
       "       ['Bournemouth'],\n",
       "       ['Aldershot'],\n",
       "       ['Brighton'],\n",
       "       ['Reading'],\n",
       "       ['Cambridge'],\n",
       "       ['Oxford'],\n",
       "       ['London'],\n",
       "       ['Belfast']],\n",
       "      dtype='<U13')"
      ]
     },
     "execution_count": 81,
     "metadata": {},
     "output_type": "execute_result"
    }
   ],
   "source": [
    "city_np_array_target[:,0:1]"
   ]
  },
  {
   "cell_type": "code",
   "execution_count": 85,
   "metadata": {},
   "outputs": [
    {
     "data": {
      "image/png": "[encoded data removed]",
      "text/plain": [
       "<matplotlib.figure.Figure at 0x227bb2679b0>"
      ]
     },
     "metadata": {},
     "output_type": "display_data"
    }
   ],
   "source": [
    "plt.scatter(data[:,0],data[:,1])\n",
    "plt.show()"
   ]
  },
  {
   "cell_type": "code",
   "execution_count": null,
   "metadata": {
    "collapsed": true
   },
   "outputs": [],
   "source": []
  }
 ],
 "metadata": {
  "kernelspec": {
   "display_name": "Python 3",
   "language": "python",
   "name": "python3"
  },
  "language_info": {
   "codemirror_mode": {
    "name": "ipython",
    "version": 3
   },
   "file_extension": ".py",
   "mimetype": "text/x-python",
   "name": "python",
   "nbconvert_exporter": "python",
   "pygments_lexer": "ipython3",
   "version": "3.6.3"
  }
 },
 "nbformat": 4,
 "nbformat_minor": 2
}
