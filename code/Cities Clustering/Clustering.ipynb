{
 "cells": [
  {
   "cell_type": "code",
   "execution_count": 8,
   "metadata": {
    "collapsed": true
   },
   "outputs": [],
   "source": [
    "import numpy as np\n",
    "import matplotlib.pyplot as plt\n",
    "from sklearn.preprocessing import scale\n",
    "import pandas as pd"
   ]
  },
  {
   "cell_type": "code",
   "execution_count": 9,
   "metadata": {
    "collapsed": true
   },
   "outputs": [],
   "source": [
    "array = []\n",
    "city = []\n",
    "uber = []\n",
    "with open(r\"C:\\Users\\Admin\\Documents\\UberProject\\data\\CityStats.csv\", 'r') as citystats:\n",
    "    next(citystats)\n",
    "    for line in citystats:\n",
    "        array.append(line.replace(\"'\",'').replace(\"\\n\",'').split(',')) #appends all the lines in file to an array\n",
    "        city.append(line.replace(\"'\",'').replace(\"\\n\",'').split(',')[0]) #array of all the Cities analysed\n",
    "        uber.append(line.replace(\"'\",'').replace(\"\\n\",'').split(',')[-1]) #array showing if uber exisits in each of the cities.\n",
    "    "
   ]
  },
  {
   "cell_type": "code",
   "execution_count": 10,
   "metadata": {
    "collapsed": true
   },
   "outputs": [],
   "source": [
    "city_np_array = np.array(array) #Conversts the array into a numpy array."
   ]
  },
  {
   "cell_type": "code",
   "execution_count": 11,
   "metadata": {
    "collapsed": true
   },
   "outputs": [],
   "source": [
    "city_np_array_data= city_np_array.copy()\n",
    "city_np_array_target= city_np_array.copy()"
   ]
  },
  {
   "cell_type": "code",
   "execution_count": 12,
   "metadata": {
    "collapsed": true
   },
   "outputs": [],
   "source": [
    "city_data = city_np_array_data[:,1:-1] #Numpy array of all the training data."
   ]
  },
  {
   "cell_type": "code",
   "execution_count": 13,
   "metadata": {},
   "outputs": [],
   "source": [
    "from sklearn.decomposition import RandomizedPCA\n",
    "from sklearn.cluster import KMeans\n",
    "kmeans = KMeans(n_clusters=6, random_state=0).fit(city_np_array_data[:,1:-1])#Classifies cities into 6 differnt clusters."
   ]
  },
  {
   "cell_type": "code",
   "execution_count": null,
   "metadata": {
    "collapsed": true
   },
   "outputs": [],
   "source": [
    "u = RandomizedPCA(n_components=2)\n",
    "data = u.fit_transform(city_data) #Flattens out data set for plotting.\n",
    "plt.figure(figsize=(20,10))\n",
    "plt.scatter(data[:,0],data[:,1],c= kmeans.labels_,s=70)\n",
    "plt.title(\"K-Means Clustering of UK Cities\", fontsize=18)\n",
    "plt.colorbar()\n",
    "plt.axis(\"off\")\n",
    "plt.savefig(r\"C:\\Users\\Admin\\Documents\\UberProject\\code\\CitiesClustering\\CitiesCluster.png\")\n",
    "plt.show()"
   ]
  },
  {
   "cell_type": "code",
   "execution_count": null,
   "metadata": {},
   "outputs": [],
   "source": [
    "df = pd.DataFrame(city)\n",
    "df['labels'] = kmeans.labels_.tolist()\n",
    "df['uber'] = uber\n",
    "df.columns=['City', 'Labels','Uber']\n",
    "df.columns=['City', 'Labels','Uber']\n",
    "df\n",
    "#A dataframe of cities, cluster assignment and whether the city has Uber (1) or not (0). "
   ]
  }
 ],
 "metadata": {
  "kernelspec": {
   "display_name": "Python 3",
   "language": "python",
   "name": "python3"
  },
  "language_info": {
   "codemirror_mode": {
    "name": "ipython",
    "version": 3
   },
   "file_extension": ".py",
   "mimetype": "text/x-python",
   "name": "python",
   "nbconvert_exporter": "python",
   "pygments_lexer": "ipython3",
   "version": "3.6.3"
  }
 },
 "nbformat": 4,
 "nbformat_minor": 2
}
