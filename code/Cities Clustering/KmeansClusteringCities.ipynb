{
 "cells": [
  {
   "cell_type": "code",
   "execution_count": 7,
   "metadata": {},
   "outputs": [],
   "source": [
    "import numpy as np\n",
    "import matplotlib.pyplot as plt\n",
    "from sklearn.cross_validation import train_test_split\n",
    "from sklearn.cluster import KMeans"
   ]
  },
  {
   "cell_type": "code",
   "execution_count": 8,
   "metadata": {},
   "outputs": [],
   "source": [
    "array = []\n",
    "with open(r\"C:\\Users\\Student\\Documents\\Uber_Project\\data\\CityStats.csv\", 'r') as citystats:\n",
    "    next(citystats)\n",
    "    for line in citystats:\n",
    "        array.append(line.replace(\"'\",'').replace(\"\\n\",'').split(','))\n",
    "        \n",
    "    "
   ]
  },
  {
   "cell_type": "code",
   "execution_count": 9,
   "metadata": {
    "collapsed": true
   },
   "outputs": [],
   "source": [
    "city_np_array = np.array(array)"
   ]
  },
  {
   "cell_type": "code",
   "execution_count": 10,
   "metadata": {
    "collapsed": true
   },
   "outputs": [],
   "source": [
    "city_np_array_data= city_np_array.copy()\n",
    "city_np_array_target= city_np_array.copy()"
   ]
  },
  {
   "cell_type": "code",
   "execution_count": 11,
   "metadata": {
    "collapsed": true
   },
   "outputs": [],
   "source": [
    "city_data = city_np_array_data[:,1:]\n",
    "city_target = [i for i in range(0,63)]"
   ]
  },
  {
   "cell_type": "code",
   "execution_count": 14,
   "metadata": {},
   "outputs": [
    {
     "data": {
      "text/plain": [
       "array([['Burnley'],\n",
       "       ['Hull'],\n",
       "       ['Blackburn'],\n",
       "       ['Sunderland'],\n",
       "       ['Barnsley'],\n",
       "       ['Stoke'],\n",
       "       ['Wigan'],\n",
       "       ['Dundee'],\n",
       "       ['Liverpool'],\n",
       "       ['Mansfield'],\n",
       "       ['Doncaster'],\n",
       "       ['Middlesbrough'],\n",
       "       ['Swansea'],\n",
       "       ['Wakefield'],\n",
       "       ['Blackpool'],\n",
       "       ['Bradford'],\n",
       "       ['Glasgow'],\n",
       "       ['Newport'],\n",
       "       ['Derby'],\n",
       "       ['Telford'],\n",
       "       ['Newcastle'],\n",
       "       ['Sheffield'],\n",
       "       ['Nottingham'],\n",
       "       ['Huddersfield'],\n",
       "       ['Preston'],\n",
       "       ['Birkenhead'],\n",
       "       ['Coventry'],\n",
       "       ['Manchester'],\n",
       "       ['Birmingham'],\n",
       "       ['Leicester'],\n",
       "       ['Plymouth'],\n",
       "       ['Peterborough'],\n",
       "       ['Ipswich'],\n",
       "       ['Leeds'],\n",
       "       ['Gloucester'],\n",
       "       ['Warrington'],\n",
       "       ['Northampton'],\n",
       "       ['Aberdeen'],\n",
       "       ['Swindon'],\n",
       "       ['Cardiff'],\n",
       "       ['Norwich'],\n",
       "       ['Luton'],\n",
       "       ['Chatham'],\n",
       "       ['Edinburgh'],\n",
       "       ['Portsmouth'],\n",
       "       ['Southampton'],\n",
       "       ['York'],\n",
       "       ['Exeter'],\n",
       "       ['Milton Keynes'],\n",
       "       ['Bristol'],\n",
       "       ['Worthing'],\n",
       "       ['Southend'],\n",
       "       ['Crawley'],\n",
       "       ['Slough'],\n",
       "       ['Basildon'],\n",
       "       ['Bournemouth'],\n",
       "       ['Aldershot'],\n",
       "       ['Brighton'],\n",
       "       ['Reading'],\n",
       "       ['Cambridge'],\n",
       "       ['Oxford'],\n",
       "       ['London'],\n",
       "       ['Belfast']],\n",
       "      dtype='<U13')"
      ]
     },
     "execution_count": 14,
     "metadata": {},
     "output_type": "execute_result"
    }
   ],
   "source": [
    "city_np_array_target[:,0:1]"
   ]
  },
  {
   "cell_type": "code",
   "execution_count": 22,
   "metadata": {
    "collapsed": true
   },
   "outputs": [],
   "source": [
    "kmeans = KMeans(n_clusters=6, random_state=0).fit(city_data)"
   ]
  },
  {
   "cell_type": "code",
   "execution_count": 23,
   "metadata": {},
   "outputs": [
    {
     "data": {
      "text/plain": [
       "array([5, 5, 5, 5, 5, 4, 5, 5, 0, 5, 5, 4, 4, 4, 5, 4, 0, 5, 5, 5, 0, 0, 0,\n",
       "       4, 4, 5, 4, 3, 3, 4, 5, 5, 5, 0, 5, 5, 5, 5, 5, 4, 5, 5, 5, 4, 4, 4,\n",
       "       5, 2, 5, 0, 2, 4, 2, 2, 2, 4, 2, 4, 4, 2, 2, 1, 4])"
      ]
     },
     "execution_count": 23,
     "metadata": {},
     "output_type": "execute_result"
    }
   ],
   "source": [
    "kmeans.labels_"
   ]
  },
  {
   "cell_type": "code",
   "execution_count": null,
   "metadata": {
    "collapsed": true
   },
   "outputs": [],
   "source": []
  }
 ],
 "metadata": {
  "kernelspec": {
   "display_name": "Python 3",
   "language": "python",
   "name": "python3"
  },
  "language_info": {
   "codemirror_mode": {
    "name": "ipython",
    "version": 3
   },
   "file_extension": ".py",
   "mimetype": "text/x-python",
   "name": "python",
   "nbconvert_exporter": "python",
   "pygments_lexer": "ipython3",
   "version": "3.6.3"
  }
 },
 "nbformat": 4,
 "nbformat_minor": 2
}
